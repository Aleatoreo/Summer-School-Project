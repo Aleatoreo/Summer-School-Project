{
  "nbformat": 4,
  "nbformat_minor": 0,
  "metadata": {
    "colab": {
      "provenance": [],
      "authorship_tag": "ABX9TyMxgVVERN9UHWlYLxcoBJ0p",
      "include_colab_link": true
    },
    "kernelspec": {
      "name": "python3",
      "display_name": "Python 3"
    },
    "language_info": {
      "name": "python"
    }
  },
  "cells": [
    {
      "cell_type": "markdown",
      "metadata": {
        "id": "view-in-github",
        "colab_type": "text"
      },
      "source": [
        "<a href=\"https://colab.research.google.com/github/Aleatoreo/3MC---PIMS---IDMS---ICMS---Winnipeg-2025---Project/blob/main/SS_Winnipeg_project.ipynb\" target=\"_parent\"><img src=\"https://colab.research.google.com/assets/colab-badge.svg\" alt=\"Open In Colab\"/></a>"
      ]
    },
    {
      "cell_type": "markdown",
      "source": [
        "The following code models the \"search and capture\" process performed by microtubules during mitosis. The *modus operandi* will be as follows: to generate the simplest - ideally, minimal - model of microtubule growth and shrinkage, with the change between these two states functioning as a stochastic process. Once this simplest model has been shown to be working correctly, we will incorporate further parameters to make the simulation more \"realistic\" and see what specific parameter values leads to the most optimized results.  "
      ],
      "metadata": {
        "id": "xUykLP-YlkNS"
      }
    },
    {
      "cell_type": "code",
      "execution_count": null,
      "metadata": {
        "id": "pIhxVs79bctZ"
      },
      "outputs": [],
      "source": []
    }
  ]
}